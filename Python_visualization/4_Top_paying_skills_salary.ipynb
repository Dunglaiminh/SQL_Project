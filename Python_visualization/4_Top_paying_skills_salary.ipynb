{
 "cells": [
  {
   "cell_type": "code",
   "execution_count": 3,
   "metadata": {},
   "outputs": [
    {
     "name": "stdout",
     "output_type": "stream",
     "text": [
      "Markdown table saved to output.md\n"
     ]
    }
   ],
   "source": [
    "import pandas as pd\n",
    "\n",
    "# Load the CSV file\n",
    "csv_file = \"4_Top_paying_skills.csv\"  # Replace with your actual file name\n",
    "df = pd.read_csv(csv_file)\n",
    "\n",
    "# Convert DataFrame to Markdown table\n",
    "md_table = df.to_markdown(index=False)\n",
    "\n",
    "# Save to a .md file\n",
    "with open(\"output.md\", \"w\") as f:\n",
    "    f.write(md_table)\n",
    "\n",
    "print(\"Markdown table saved to output.md\")"
   ]
  }
 ],
 "metadata": {
  "kernelspec": {
   "display_name": "Py3.11",
   "language": "python",
   "name": "python3"
  },
  "language_info": {
   "codemirror_mode": {
    "name": "ipython",
    "version": 3
   },
   "file_extension": ".py",
   "mimetype": "text/x-python",
   "name": "python",
   "nbconvert_exporter": "python",
   "pygments_lexer": "ipython3",
   "version": "3.11.11"
  }
 },
 "nbformat": 4,
 "nbformat_minor": 2
}
